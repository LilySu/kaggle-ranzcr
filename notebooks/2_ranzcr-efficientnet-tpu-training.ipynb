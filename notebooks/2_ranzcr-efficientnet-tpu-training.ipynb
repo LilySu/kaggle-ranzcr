{
 "cells": [
  {
   "cell_type": "markdown",
   "metadata": {},
   "source": [
    "**[Click here for the submission notebook](https://www.kaggle.com/xhlulu/ranzcr-efficientnet-submission)**\n",
    "\n",
    "**[Click here for updated discussions and results table](https://www.kaggle.com/c/ranzcr-clip-catheter-line-classification/discussion/204950)**\n",
    "\n",
    "**[Click here for GPU notebook instead](https://www.kaggle.com/xhlulu/ranzcr-efficientnet-gpu-starter-train-submit)**\n",
    "\n",
    "This is the training notebook for the EfficientNet model trained on TPU using Keras. The best version achieves **LB 0.957** using a single EfficientNet B7."
   ]
  },
  {
   "cell_type": "code",
   "execution_count": 9,
   "metadata": {
    "_cell_guid": "b1076dfc-b9ad-4769-8c92-a6c4dae69d19",
    "_uuid": "8f2839f25d086af736a60e9eeb907d3b93b6e0e5"
   },
   "outputs": [],
   "source": [
    "import os\n",
    "\n",
    "import numpy as np\n",
    "import pandas as pd\n",
    "# from kaggledatasets import KaggleDatasets\n",
    "from sklearn.model_selection import train_test_split\n",
    "import tensorflow as tf\n",
    "\n",
    "import tf_keras_efficientnet as efn"
   ]
  },
  {
   "cell_type": "markdown",
   "metadata": {},
   "source": [
    "## Helper functions"
   ]
  },
  {
   "cell_type": "markdown",
   "metadata": {},
   "source": [
    "The following functions are defined below (unhide to see):\n",
    "```python\n",
    "auto_select_accelerator()\n",
    "\n",
    "build_decoder(with_labels=True, target_size=(256, 256), ext='jpg')\n",
    "\n",
    "build_augmenter(with_labels=True)\n",
    "\n",
    "build_dataset(paths, labels=None, bsize=32, cache=True,\n",
    "              decode_fn=None, augment_fn=None,\n",
    "              augment=True, repeat=True, shuffle=1024, \n",
    "              cache_dir=\"\")\n",
    "```"
   ]
  },
  {
   "cell_type": "code",
   "execution_count": 10,
   "metadata": {
    "_cell_guid": "79c7e3d0-c299-4dcb-8224-4455121ee9b0",
    "_kg_hide-input": true,
    "_uuid": "d629ff2d2480ee46fbb7e2d37f6b5fab8052498a"
   },
   "outputs": [],
   "source": [
    "def auto_select_accelerator():\n",
    "    \"\"\"\n",
    "    Reference: \n",
    "        * https://www.kaggle.com/mgornergoogle/getting-started-with-100-flowers-on-tpu\n",
    "        * https://www.kaggle.com/xhlulu/ranzcr-efficientnet-tpu-training\n",
    "    \"\"\"\n",
    "    try:\n",
    "        tpu = tf.distribute.cluster_resolver.TPUClusterResolver()\n",
    "        tf.config.experimental_connect_to_cluster(tpu)\n",
    "        tf.tpu.experimental.initialize_tpu_system(tpu)\n",
    "        strategy = tf.distribute.experimental.TPUStrategy(tpu)\n",
    "        print(\"Running on TPU:\", tpu.master())\n",
    "    except ValueError:\n",
    "        strategy = tf.distribute.get_strategy()\n",
    "    print(f\"Running on {strategy.num_replicas_in_sync} replicas\")\n",
    "    \n",
    "    return strategy\n",
    "\n",
    "\n",
    "def build_decoder(with_labels=True, target_size=(256, 256), ext='jpg'):\n",
    "    def decode(path):\n",
    "        file_bytes = tf.io.read_file(path)\n",
    "        if ext == 'png':\n",
    "            img = tf.image.decode_png(file_bytes, channels=3)\n",
    "        elif ext in ['jpg', 'jpeg']:\n",
    "            img = tf.image.decode_jpeg(file_bytes, channels=3)\n",
    "        else:\n",
    "            raise ValueError(\"Image extension not supported\")\n",
    "\n",
    "        img = tf.cast(img, tf.float32) / 255.0\n",
    "        img = tf.image.resize(img, target_size)\n",
    "\n",
    "        return img\n",
    "    \n",
    "    def decode_with_labels(path, label):\n",
    "        return decode(path), label\n",
    "    \n",
    "    return decode_with_labels if with_labels else decode\n",
    "\n",
    "\n",
    "def build_augmenter(with_labels=True):\n",
    "    def augment(img):\n",
    "        img = tf.image.random_flip_left_right(img)\n",
    "        img = tf.image.random_flip_up_down(img)\n",
    "        return img\n",
    "    \n",
    "    def augment_with_labels(img, label):\n",
    "        return augment(img), label\n",
    "    \n",
    "    return augment_with_labels if with_labels else augment\n",
    "\n",
    "\n",
    "def build_dataset(paths, labels=None, bsize=32, cache=True,\n",
    "                  decode_fn=None, augment_fn=None,\n",
    "                  augment=True, repeat=True, shuffle=1024, \n",
    "                  cache_dir=\"\"):\n",
    "    if cache_dir != \"\" and cache is True:\n",
    "        os.makedirs(cache_dir, exist_ok=True)\n",
    "    \n",
    "    if decode_fn is None:\n",
    "        decode_fn = build_decoder(labels is not None)\n",
    "    \n",
    "    if augment_fn is None:\n",
    "        augment_fn = build_augmenter(labels is not None)\n",
    "    \n",
    "    AUTO = tf.data.experimental.AUTOTUNE\n",
    "    slices = paths if labels is None else (paths, labels)\n",
    "    \n",
    "    dset = tf.data.Dataset.from_tensor_slices(slices)\n",
    "    dset = dset.map(decode_fn, num_parallel_calls=AUTO)\n",
    "    dset = dset.cache(cache_dir) if cache else dset\n",
    "    dset = dset.map(augment_fn, num_parallel_calls=AUTO) if augment else dset\n",
    "    dset = dset.repeat() if repeat else dset\n",
    "    dset = dset.shuffle(shuffle) if shuffle else dset\n",
    "    dset = dset.batch(bsize).prefetch(AUTO)\n",
    "    \n",
    "    return dset"
   ]
  },
  {
   "cell_type": "markdown",
   "metadata": {},
   "source": [
    "## Variables and configurations"
   ]
  },
  {
   "cell_type": "code",
   "execution_count": 11,
   "metadata": {},
   "outputs": [],
   "source": [
    "# COMPETITION_NAME = \"ranzcr-clip-catheter-line-classification\"\n",
    "# strategy = auto_select_accelerator()\n",
    "# BATCH_SIZE = strategy.num_replicas_in_sync * 16\n",
    "# GCS_DS_PATH = KaggleDatasets().get_gcs_path(COMPETITION_NAME)"
   ]
  },
  {
   "cell_type": "markdown",
   "metadata": {},
   "source": [
    "## Preparing dataset"
   ]
  },
  {
   "cell_type": "markdown",
   "metadata": {},
   "source": [
    "### Loading and preprocess CSVs"
   ]
  },
  {
   "cell_type": "code",
   "execution_count": 14,
   "metadata": {},
   "outputs": [],
   "source": [
    "# load_dir = f\"/kaggle/input/{COMPETITION_NAME}/\"\n",
    "load_dir = \"../data/\"\n",
    "GCS_DS_PATH = \"../data/\"\n",
    "df = pd.read_csv(load_dir + 'train.csv')\n",
    "\n",
    "# paths = load_dir + \"train/\" + df['StudyInstanceUID'] + '.jpg'\n",
    "paths = GCS_DS_PATH + \"/train/\" + df['StudyInstanceUID'] + '.jpg'\n",
    "\n",
    "sub_df = pd.read_csv(load_dir + 'sample_submission.csv')\n",
    "\n",
    "# test_paths = load_dir + \"test/\" + sub_df['StudyInstanceUID'] + '.jpg'\n",
    "test_paths = GCS_DS_PATH + \"/test/\" + sub_df['StudyInstanceUID'] + '.jpg'\n",
    "\n",
    "# Get the multi-labels\n",
    "label_cols = sub_df.columns[1:]\n",
    "labels = df[label_cols].values"
   ]
  },
  {
   "cell_type": "code",
   "execution_count": 15,
   "metadata": {},
   "outputs": [],
   "source": [
    "# Train test split\n",
    "(\n",
    "    train_paths, valid_paths, \n",
    "    train_labels, valid_labels\n",
    ") = train_test_split(paths, labels, test_size=0.2, random_state=42)"
   ]
  },
  {
   "cell_type": "code",
   "execution_count": 16,
   "metadata": {},
   "outputs": [],
   "source": [
    "# Build the tensorflow datasets\n",
    "IMSIZES = (224, 240, 260, 300, 380, 456, 528, 600)\n",
    "im_size = IMSIZES[7]\n",
    "\n",
    "decoder = build_decoder(with_labels=True, target_size=(im_size, im_size))\n",
    "test_decoder = build_decoder(with_labels=False, target_size=(im_size, im_size))\n",
    "\n",
    "train_dataset = build_dataset(\n",
    "    train_paths, train_labels, bsize=BATCH_SIZE, decode_fn=decoder\n",
    ")\n",
    "\n",
    "valid_dataset = build_dataset(\n",
    "    valid_paths, valid_labels, bsize=BATCH_SIZE, decode_fn=decoder,\n",
    "    repeat=False, shuffle=False, augment=False\n",
    ")\n",
    "\n",
    "test_dataset = build_dataset(\n",
    "    test_paths, cache=False, bsize=BATCH_SIZE, decode_fn=test_decoder,\n",
    "    repeat=False, shuffle=False, augment=False\n",
    ")"
   ]
  },
  {
   "cell_type": "markdown",
   "metadata": {},
   "source": [
    "## Modeling"
   ]
  },
  {
   "cell_type": "code",
   "execution_count": 17,
   "metadata": {},
   "outputs": [
    {
     "name": "stdout",
     "output_type": "stream",
     "text": [
      "Downloading data from https://storage.googleapis.com/keras-applications/efficientnetb7_notop.h5\n",
      "258080768/258076736 [==============================] - 21s 0us/step\n",
      "Model: \"sequential\"\n",
      "_________________________________________________________________\n",
      "Layer (type)                 Output Shape              Param #   \n",
      "=================================================================\n",
      "efficientnetb7 (Functional)  (None, 19, 19, 2560)      64097687  \n",
      "_________________________________________________________________\n",
      "global_average_pooling2d (Gl (None, 2560)              0         \n",
      "_________________________________________________________________\n",
      "dense (Dense)                (None, 11)                28171     \n",
      "=================================================================\n",
      "Total params: 64,125,858\n",
      "Trainable params: 63,815,131\n",
      "Non-trainable params: 310,727\n",
      "_________________________________________________________________\n"
     ]
    }
   ],
   "source": [
    "n_labels = labels.shape[1]\n",
    "\n",
    "with strategy.scope():\n",
    "    model = tf.keras.Sequential([\n",
    "        efn.EfficientNetB7(\n",
    "            input_shape=(im_size, im_size, 3),\n",
    "            weights='imagenet',\n",
    "            include_top=False,\n",
    "            drop_connect_rate=0.7),\n",
    "        tf.keras.layers.GlobalAveragePooling2D(),\n",
    "        tf.keras.layers.Dense(n_labels, activation='sigmoid')\n",
    "    ])\n",
    "    model.compile(\n",
    "        optimizer=tf.keras.optimizers.Adam(),\n",
    "        loss='binary_crossentropy',\n",
    "        metrics=[tf.keras.metrics.AUC(multi_label=True)])\n",
    "    model.summary()"
   ]
  },
  {
   "cell_type": "code",
   "execution_count": 18,
   "metadata": {},
   "outputs": [],
   "source": [
    "steps_per_epoch = train_paths.shape[0] // BATCH_SIZE\n",
    "checkpoint = tf.keras.callbacks.ModelCheckpoint(\n",
    "    'model.h5', save_best_only=True, monitor='val_auc', mode='max')\n",
    "lr_reducer = tf.keras.callbacks.ReduceLROnPlateau(\n",
    "    monitor=\"val_auc\", patience=3, min_lr=1e-6, mode='max')"
   ]
  },
  {
   "cell_type": "code",
   "execution_count": null,
   "metadata": {},
   "outputs": [
    {
     "name": "stdout",
     "output_type": "stream",
     "text": [
      "Epoch 1/20\n"
     ]
    }
   ],
   "source": [
    "history = model.fit(\n",
    "    train_dataset, \n",
    "    epochs=20,\n",
    "    verbose=2,\n",
    "    callbacks=[checkpoint, lr_reducer],\n",
    "    steps_per_epoch=steps_per_epoch,\n",
    "    validation_data=valid_dataset)"
   ]
  },
  {
   "cell_type": "markdown",
   "metadata": {},
   "source": [
    "## Save history"
   ]
  },
  {
   "cell_type": "code",
   "execution_count": null,
   "metadata": {},
   "outputs": [],
   "source": [
    "hist_df = pd.DataFrame(history.history)\n",
    "hist_df.to_csv('history.csv')"
   ]
  },
  {
   "cell_type": "code",
   "execution_count": null,
   "metadata": {},
   "outputs": [],
   "source": []
  }
 ],
 "metadata": {
  "kernelspec": {
   "display_name": "Python 3",
   "language": "python",
   "name": "python3"
  },
  "language_info": {
   "codemirror_mode": {
    "name": "ipython",
    "version": 3
   },
   "file_extension": ".py",
   "mimetype": "text/x-python",
   "name": "python",
   "nbconvert_exporter": "python",
   "pygments_lexer": "ipython3",
   "version": "3.8.6"
  }
 },
 "nbformat": 4,
 "nbformat_minor": 4
}
